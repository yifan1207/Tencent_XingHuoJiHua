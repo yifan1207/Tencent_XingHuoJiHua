{
 "cells": [
  {
   "cell_type": "code",
   "execution_count": 1,
   "metadata": {},
   "outputs": [
    {
     "name": "stdout",
     "output_type": "stream",
     "text": [
      "Requirement already satisfied: tensorcircuit[cloud] in /opt/anaconda3/lib/python3.12/site-packages (0.12.0)\n",
      "Requirement already satisfied: numpy in /opt/anaconda3/lib/python3.12/site-packages (from tensorcircuit[cloud]) (1.26.4)\n",
      "Requirement already satisfied: scipy in /opt/anaconda3/lib/python3.12/site-packages (from tensorcircuit[cloud]) (1.13.1)\n",
      "Requirement already satisfied: tensornetwork-ng in /opt/anaconda3/lib/python3.12/site-packages (from tensorcircuit[cloud]) (0.5.0)\n",
      "Requirement already satisfied: networkx in /opt/anaconda3/lib/python3.12/site-packages (from tensorcircuit[cloud]) (3.2.1)\n",
      "Requirement already satisfied: qiskit<1.0 in /opt/anaconda3/lib/python3.12/site-packages (from tensorcircuit[cloud]) (0.46.2)\n",
      "Requirement already satisfied: mthree in /opt/anaconda3/lib/python3.12/site-packages (from tensorcircuit[cloud]) (2.6.3)\n",
      "Requirement already satisfied: qiskit-terra==0.46.2 in /opt/anaconda3/lib/python3.12/site-packages (from qiskit<1.0->tensorcircuit[cloud]) (0.46.2)\n",
      "Requirement already satisfied: rustworkx>=0.13.0 in /opt/anaconda3/lib/python3.12/site-packages (from qiskit-terra==0.46.2->qiskit<1.0->tensorcircuit[cloud]) (0.15.1)\n",
      "Requirement already satisfied: ply>=3.10 in /opt/anaconda3/lib/python3.12/site-packages (from qiskit-terra==0.46.2->qiskit<1.0->tensorcircuit[cloud]) (3.11)\n",
      "Requirement already satisfied: psutil>=5 in /opt/anaconda3/lib/python3.12/site-packages (from qiskit-terra==0.46.2->qiskit<1.0->tensorcircuit[cloud]) (5.9.0)\n",
      "Requirement already satisfied: sympy>=1.3 in /opt/anaconda3/lib/python3.12/site-packages (from qiskit-terra==0.46.2->qiskit<1.0->tensorcircuit[cloud]) (1.12)\n",
      "Requirement already satisfied: dill>=0.3 in /opt/anaconda3/lib/python3.12/site-packages (from qiskit-terra==0.46.2->qiskit<1.0->tensorcircuit[cloud]) (0.3.8)\n",
      "Requirement already satisfied: python-dateutil>=2.8.0 in /opt/anaconda3/lib/python3.12/site-packages (from qiskit-terra==0.46.2->qiskit<1.0->tensorcircuit[cloud]) (2.9.0.post0)\n",
      "Requirement already satisfied: stevedore>=3.0.0 in /opt/anaconda3/lib/python3.12/site-packages (from qiskit-terra==0.46.2->qiskit<1.0->tensorcircuit[cloud]) (5.2.0)\n",
      "Requirement already satisfied: symengine>=0.11 in /opt/anaconda3/lib/python3.12/site-packages (from qiskit-terra==0.46.2->qiskit<1.0->tensorcircuit[cloud]) (0.11.0)\n",
      "Requirement already satisfied: cython>=3.0.5 in /opt/anaconda3/lib/python3.12/site-packages (from mthree->tensorcircuit[cloud]) (3.0.10)\n",
      "Requirement already satisfied: qiskit-ibm-runtime>=0.18 in /opt/anaconda3/lib/python3.12/site-packages (from mthree->tensorcircuit[cloud]) (0.20.0)\n",
      "Requirement already satisfied: orjson>=3.0.0 in /opt/anaconda3/lib/python3.12/site-packages (from mthree->tensorcircuit[cloud]) (3.10.6)\n",
      "Requirement already satisfied: graphviz>=0.11.1 in /opt/anaconda3/lib/python3.12/site-packages (from tensornetwork-ng->tensorcircuit[cloud]) (0.20.3)\n",
      "Requirement already satisfied: opt-einsum>=2.3.0 in /opt/anaconda3/lib/python3.12/site-packages (from tensornetwork-ng->tensorcircuit[cloud]) (3.3.0)\n",
      "Requirement already satisfied: h5py>=2.9.0 in /opt/anaconda3/lib/python3.12/site-packages (from tensornetwork-ng->tensorcircuit[cloud]) (3.11.0)\n",
      "Requirement already satisfied: requests>=2.19 in /opt/anaconda3/lib/python3.12/site-packages (from qiskit-ibm-runtime>=0.18->mthree->tensorcircuit[cloud]) (2.32.2)\n",
      "Requirement already satisfied: requests-ntlm>=1.1.0 in /opt/anaconda3/lib/python3.12/site-packages (from qiskit-ibm-runtime>=0.18->mthree->tensorcircuit[cloud]) (1.3.0)\n",
      "Requirement already satisfied: urllib3>=1.21.1 in /opt/anaconda3/lib/python3.12/site-packages (from qiskit-ibm-runtime>=0.18->mthree->tensorcircuit[cloud]) (2.2.2)\n",
      "Requirement already satisfied: websocket-client>=1.5.1 in /opt/anaconda3/lib/python3.12/site-packages (from qiskit-ibm-runtime>=0.18->mthree->tensorcircuit[cloud]) (1.8.0)\n",
      "Requirement already satisfied: ibm-platform-services>=0.22.6 in /opt/anaconda3/lib/python3.12/site-packages (from qiskit-ibm-runtime>=0.18->mthree->tensorcircuit[cloud]) (0.54.2)\n",
      "Requirement already satisfied: ibm-cloud-sdk-core<4.0.0,>=3.19.2 in /opt/anaconda3/lib/python3.12/site-packages (from ibm-platform-services>=0.22.6->qiskit-ibm-runtime>=0.18->mthree->tensorcircuit[cloud]) (3.20.1)\n",
      "Requirement already satisfied: six>=1.5 in /opt/anaconda3/lib/python3.12/site-packages (from python-dateutil>=2.8.0->qiskit-terra==0.46.2->qiskit<1.0->tensorcircuit[cloud]) (1.16.0)\n",
      "Requirement already satisfied: charset-normalizer<4,>=2 in /opt/anaconda3/lib/python3.12/site-packages (from requests>=2.19->qiskit-ibm-runtime>=0.18->mthree->tensorcircuit[cloud]) (2.0.4)\n",
      "Requirement already satisfied: idna<4,>=2.5 in /opt/anaconda3/lib/python3.12/site-packages (from requests>=2.19->qiskit-ibm-runtime>=0.18->mthree->tensorcircuit[cloud]) (3.7)\n",
      "Requirement already satisfied: certifi>=2017.4.17 in /opt/anaconda3/lib/python3.12/site-packages (from requests>=2.19->qiskit-ibm-runtime>=0.18->mthree->tensorcircuit[cloud]) (2024.6.2)\n",
      "Requirement already satisfied: cryptography>=1.3 in /opt/anaconda3/lib/python3.12/site-packages (from requests-ntlm>=1.1.0->qiskit-ibm-runtime>=0.18->mthree->tensorcircuit[cloud]) (42.0.5)\n",
      "Requirement already satisfied: pyspnego>=0.4.0 in /opt/anaconda3/lib/python3.12/site-packages (from requests-ntlm>=1.1.0->qiskit-ibm-runtime>=0.18->mthree->tensorcircuit[cloud]) (0.11.0)\n",
      "Requirement already satisfied: pbr!=2.1.0,>=2.0.0 in /opt/anaconda3/lib/python3.12/site-packages (from stevedore>=3.0.0->qiskit-terra==0.46.2->qiskit<1.0->tensorcircuit[cloud]) (6.0.0)\n",
      "Requirement already satisfied: mpmath>=0.19 in /opt/anaconda3/lib/python3.12/site-packages (from sympy>=1.3->qiskit-terra==0.46.2->qiskit<1.0->tensorcircuit[cloud]) (1.3.0)\n",
      "Requirement already satisfied: cffi>=1.12 in /opt/anaconda3/lib/python3.12/site-packages (from cryptography>=1.3->requests-ntlm>=1.1.0->qiskit-ibm-runtime>=0.18->mthree->tensorcircuit[cloud]) (1.16.0)\n",
      "Requirement already satisfied: PyJWT<3.0.0,>=2.8.0 in /opt/anaconda3/lib/python3.12/site-packages (from ibm-cloud-sdk-core<4.0.0,>=3.19.2->ibm-platform-services>=0.22.6->qiskit-ibm-runtime>=0.18->mthree->tensorcircuit[cloud]) (2.8.0)\n",
      "Requirement already satisfied: pycparser in /opt/anaconda3/lib/python3.12/site-packages (from cffi>=1.12->cryptography>=1.3->requests-ntlm>=1.1.0->qiskit-ibm-runtime>=0.18->mthree->tensorcircuit[cloud]) (2.21)\n",
      "Note: you may need to restart the kernel to use updated packages.\n"
     ]
    }
   ],
   "source": [
    "pip install \"tensorcircuit[cloud]\""
   ]
  },
  {
   "cell_type": "code",
   "execution_count": 4,
   "metadata": {},
   "outputs": [
    {
     "name": "stdout",
     "output_type": "stream",
     "text": [
      "data: {'0': 1035, '1': 1013}\n",
      "detail info: {'id': '08f48638-9be8-4f78-944a-1b23cacd5393', 'state': 'completed', 'at': 1720464638834294.0, 'shots': 2048, 'device': 'testing', 'results': {'0': 1035, '1': 1013}}\n"
     ]
    },
    {
     "ename": "MissingOptionalLibraryError",
     "evalue": "\"The 'pylatexenc' library is required to use 'MatplotlibDrawer'. You can install it with 'pip install pylatexenc'.\"",
     "output_type": "error",
     "traceback": [
      "\u001b[0;31m---------------------------------------------------------------------------\u001b[0m",
      "\u001b[0;31mMissingOptionalLibraryError\u001b[0m               Traceback (most recent call last)",
      "Cell \u001b[0;32mIn[4], line 17\u001b[0m\n\u001b[1;32m     14\u001b[0m detail \u001b[38;5;241m=\u001b[39m t\u001b[38;5;241m.\u001b[39mdetails() \u001b[38;5;66;03m# 产生详细的参数信息\u001b[39;00m\n\u001b[1;32m     15\u001b[0m \u001b[38;5;28mprint\u001b[39m(\u001b[38;5;124m\"\u001b[39m\u001b[38;5;124mdetail info:\u001b[39m\u001b[38;5;124m\"\u001b[39m, t\u001b[38;5;241m.\u001b[39mdetails())\n\u001b[0;32m---> 17\u001b[0m \u001b[38;5;28mprint\u001b[39m(c\u001b[38;5;241m.\u001b[39mdraw(output \u001b[38;5;241m=\u001b[39m \u001b[38;5;124m'\u001b[39m\u001b[38;5;124mmpl\u001b[39m\u001b[38;5;124m'\u001b[39m)) \u001b[38;5;66;03m#电路可视化图像输出,可选 c.draw(output='mpl')\u001b[39;00m\n\u001b[1;32m     18\u001b[0m counts \u001b[38;5;241m=\u001b[39m t\u001b[38;5;241m.\u001b[39mresults()\n\u001b[1;32m     19\u001b[0m tc\u001b[38;5;241m.\u001b[39mresults\u001b[38;5;241m.\u001b[39mcounts\u001b[38;5;241m.\u001b[39mplot_histogram(counts)\n",
      "File \u001b[0;32m/opt/anaconda3/lib/python3.12/site-packages/tensorcircuit/abstractcircuit.py:846\u001b[0m, in \u001b[0;36mAbstractCircuit.draw\u001b[0;34m(self, **kws)\u001b[0m\n\u001b[1;32m    826\u001b[0m \u001b[38;5;28;01mdef\u001b[39;00m \u001b[38;5;21mdraw\u001b[39m(\u001b[38;5;28mself\u001b[39m, \u001b[38;5;241m*\u001b[39m\u001b[38;5;241m*\u001b[39mkws: Any) \u001b[38;5;241m-\u001b[39m\u001b[38;5;241m>\u001b[39m Any:\n\u001b[1;32m    827\u001b[0m \u001b[38;5;250m    \u001b[39m\u001b[38;5;124;03m\"\"\"\u001b[39;00m\n\u001b[1;32m    828\u001b[0m \u001b[38;5;124;03m    Visualise the circuit.\u001b[39;00m\n\u001b[1;32m    829\u001b[0m \u001b[38;5;124;03m    This method recevies the keywords as same as qiskit.circuit.QuantumCircuit.draw.\u001b[39;00m\n\u001b[0;32m   (...)\u001b[0m\n\u001b[1;32m    844\u001b[0m \u001b[38;5;124;03m         └───┘\u001b[39;00m\n\u001b[1;32m    845\u001b[0m \u001b[38;5;124;03m    \"\"\"\u001b[39;00m\n\u001b[0;32m--> 846\u001b[0m     \u001b[38;5;28;01mreturn\u001b[39;00m \u001b[38;5;28mself\u001b[39m\u001b[38;5;241m.\u001b[39mto_qiskit(enable_instruction\u001b[38;5;241m=\u001b[39m\u001b[38;5;28;01mTrue\u001b[39;00m)\u001b[38;5;241m.\u001b[39mdraw(\u001b[38;5;241m*\u001b[39m\u001b[38;5;241m*\u001b[39mkws)\n",
      "File \u001b[0;32m/opt/anaconda3/lib/python3.12/site-packages/qiskit/circuit/quantumcircuit.py:1818\u001b[0m, in \u001b[0;36mQuantumCircuit.draw\u001b[0;34m(self, output, scale, filename, style, interactive, plot_barriers, reverse_bits, justify, vertical_compression, idle_wires, with_layout, fold, ax, initial_state, cregbundle, wire_order, expr_len)\u001b[0m\n\u001b[1;32m   1815\u001b[0m \u001b[38;5;66;03m# pylint: disable=cyclic-import\u001b[39;00m\n\u001b[1;32m   1816\u001b[0m \u001b[38;5;28;01mfrom\u001b[39;00m \u001b[38;5;21;01mqiskit\u001b[39;00m\u001b[38;5;21;01m.\u001b[39;00m\u001b[38;5;21;01mvisualization\u001b[39;00m \u001b[38;5;28;01mimport\u001b[39;00m circuit_drawer\n\u001b[0;32m-> 1818\u001b[0m \u001b[38;5;28;01mreturn\u001b[39;00m circuit_drawer(\n\u001b[1;32m   1819\u001b[0m     \u001b[38;5;28mself\u001b[39m,\n\u001b[1;32m   1820\u001b[0m     scale\u001b[38;5;241m=\u001b[39mscale,\n\u001b[1;32m   1821\u001b[0m     filename\u001b[38;5;241m=\u001b[39mfilename,\n\u001b[1;32m   1822\u001b[0m     style\u001b[38;5;241m=\u001b[39mstyle,\n\u001b[1;32m   1823\u001b[0m     output\u001b[38;5;241m=\u001b[39moutput,\n\u001b[1;32m   1824\u001b[0m     interactive\u001b[38;5;241m=\u001b[39minteractive,\n\u001b[1;32m   1825\u001b[0m     plot_barriers\u001b[38;5;241m=\u001b[39mplot_barriers,\n\u001b[1;32m   1826\u001b[0m     reverse_bits\u001b[38;5;241m=\u001b[39mreverse_bits,\n\u001b[1;32m   1827\u001b[0m     justify\u001b[38;5;241m=\u001b[39mjustify,\n\u001b[1;32m   1828\u001b[0m     vertical_compression\u001b[38;5;241m=\u001b[39mvertical_compression,\n\u001b[1;32m   1829\u001b[0m     idle_wires\u001b[38;5;241m=\u001b[39midle_wires,\n\u001b[1;32m   1830\u001b[0m     with_layout\u001b[38;5;241m=\u001b[39mwith_layout,\n\u001b[1;32m   1831\u001b[0m     fold\u001b[38;5;241m=\u001b[39mfold,\n\u001b[1;32m   1832\u001b[0m     ax\u001b[38;5;241m=\u001b[39max,\n\u001b[1;32m   1833\u001b[0m     initial_state\u001b[38;5;241m=\u001b[39minitial_state,\n\u001b[1;32m   1834\u001b[0m     cregbundle\u001b[38;5;241m=\u001b[39mcregbundle,\n\u001b[1;32m   1835\u001b[0m     wire_order\u001b[38;5;241m=\u001b[39mwire_order,\n\u001b[1;32m   1836\u001b[0m     expr_len\u001b[38;5;241m=\u001b[39mexpr_len,\n\u001b[1;32m   1837\u001b[0m )\n",
      "File \u001b[0;32m/opt/anaconda3/lib/python3.12/site-packages/qiskit/visualization/circuit/circuit_visualization.py:321\u001b[0m, in \u001b[0;36mcircuit_drawer\u001b[0;34m(circuit, scale, filename, style, output, interactive, plot_barriers, reverse_bits, justify, vertical_compression, idle_wires, with_layout, fold, ax, initial_state, cregbundle, wire_order, expr_len)\u001b[0m\n\u001b[1;32m    306\u001b[0m     \u001b[38;5;28;01mreturn\u001b[39;00m _generate_latex_source(\n\u001b[1;32m    307\u001b[0m         circuit,\n\u001b[1;32m    308\u001b[0m         filename\u001b[38;5;241m=\u001b[39mfilename,\n\u001b[0;32m   (...)\u001b[0m\n\u001b[1;32m    318\u001b[0m         wire_order\u001b[38;5;241m=\u001b[39mcomplete_wire_order,\n\u001b[1;32m    319\u001b[0m     )\n\u001b[1;32m    320\u001b[0m \u001b[38;5;28;01melif\u001b[39;00m output \u001b[38;5;241m==\u001b[39m \u001b[38;5;124m\"\u001b[39m\u001b[38;5;124mmpl\u001b[39m\u001b[38;5;124m\"\u001b[39m:\n\u001b[0;32m--> 321\u001b[0m     image \u001b[38;5;241m=\u001b[39m _matplotlib_circuit_drawer(\n\u001b[1;32m    322\u001b[0m         circuit,\n\u001b[1;32m    323\u001b[0m         scale\u001b[38;5;241m=\u001b[39mscale,\n\u001b[1;32m    324\u001b[0m         filename\u001b[38;5;241m=\u001b[39mfilename,\n\u001b[1;32m    325\u001b[0m         style\u001b[38;5;241m=\u001b[39mstyle,\n\u001b[1;32m    326\u001b[0m         plot_barriers\u001b[38;5;241m=\u001b[39mplot_barriers,\n\u001b[1;32m    327\u001b[0m         reverse_bits\u001b[38;5;241m=\u001b[39mreverse_bits,\n\u001b[1;32m    328\u001b[0m         justify\u001b[38;5;241m=\u001b[39mjustify,\n\u001b[1;32m    329\u001b[0m         idle_wires\u001b[38;5;241m=\u001b[39midle_wires,\n\u001b[1;32m    330\u001b[0m         with_layout\u001b[38;5;241m=\u001b[39mwith_layout,\n\u001b[1;32m    331\u001b[0m         fold\u001b[38;5;241m=\u001b[39mfold,\n\u001b[1;32m    332\u001b[0m         ax\u001b[38;5;241m=\u001b[39max,\n\u001b[1;32m    333\u001b[0m         initial_state\u001b[38;5;241m=\u001b[39minitial_state,\n\u001b[1;32m    334\u001b[0m         cregbundle\u001b[38;5;241m=\u001b[39mcregbundle,\n\u001b[1;32m    335\u001b[0m         wire_order\u001b[38;5;241m=\u001b[39mcomplete_wire_order,\n\u001b[1;32m    336\u001b[0m         expr_len\u001b[38;5;241m=\u001b[39mexpr_len,\n\u001b[1;32m    337\u001b[0m     )\n\u001b[1;32m    338\u001b[0m \u001b[38;5;28;01melse\u001b[39;00m:\n\u001b[1;32m    339\u001b[0m     \u001b[38;5;28;01mraise\u001b[39;00m VisualizationError(\n\u001b[1;32m    340\u001b[0m         \u001b[38;5;124m\"\u001b[39m\u001b[38;5;124mInvalid output type \u001b[39m\u001b[38;5;132;01m%s\u001b[39;00m\u001b[38;5;124m selected. The only valid choices \u001b[39m\u001b[38;5;124m\"\u001b[39m\n\u001b[1;32m    341\u001b[0m         \u001b[38;5;124m\"\u001b[39m\u001b[38;5;124mare text, latex, latex_source, and mpl\u001b[39m\u001b[38;5;124m\"\u001b[39m \u001b[38;5;241m%\u001b[39m output\n\u001b[1;32m    342\u001b[0m     )\n",
      "File \u001b[0;32m/opt/anaconda3/lib/python3.12/site-packages/qiskit/visualization/circuit/circuit_visualization.py:701\u001b[0m, in \u001b[0;36m_matplotlib_circuit_drawer\u001b[0;34m(circuit, scale, filename, style, plot_barriers, reverse_bits, justify, idle_wires, with_layout, fold, ax, initial_state, cregbundle, wire_order, expr_len)\u001b[0m\n\u001b[1;32m    698\u001b[0m \u001b[38;5;28;01mif\u001b[39;00m fold \u001b[38;5;129;01mis\u001b[39;00m \u001b[38;5;28;01mNone\u001b[39;00m:\n\u001b[1;32m    699\u001b[0m     fold \u001b[38;5;241m=\u001b[39m \u001b[38;5;241m25\u001b[39m\n\u001b[0;32m--> 701\u001b[0m qcd \u001b[38;5;241m=\u001b[39m _matplotlib\u001b[38;5;241m.\u001b[39mMatplotlibDrawer(\n\u001b[1;32m    702\u001b[0m     qubits,\n\u001b[1;32m    703\u001b[0m     clbits,\n\u001b[1;32m    704\u001b[0m     nodes,\n\u001b[1;32m    705\u001b[0m     circuit,\n\u001b[1;32m    706\u001b[0m     scale\u001b[38;5;241m=\u001b[39mscale,\n\u001b[1;32m    707\u001b[0m     style\u001b[38;5;241m=\u001b[39mstyle,\n\u001b[1;32m    708\u001b[0m     reverse_bits\u001b[38;5;241m=\u001b[39mreverse_bits,\n\u001b[1;32m    709\u001b[0m     plot_barriers\u001b[38;5;241m=\u001b[39mplot_barriers,\n\u001b[1;32m    710\u001b[0m     fold\u001b[38;5;241m=\u001b[39mfold,\n\u001b[1;32m    711\u001b[0m     ax\u001b[38;5;241m=\u001b[39max,\n\u001b[1;32m    712\u001b[0m     initial_state\u001b[38;5;241m=\u001b[39minitial_state,\n\u001b[1;32m    713\u001b[0m     cregbundle\u001b[38;5;241m=\u001b[39mcregbundle,\n\u001b[1;32m    714\u001b[0m     with_layout\u001b[38;5;241m=\u001b[39mwith_layout,\n\u001b[1;32m    715\u001b[0m     expr_len\u001b[38;5;241m=\u001b[39mexpr_len,\n\u001b[1;32m    716\u001b[0m )\n\u001b[1;32m    717\u001b[0m \u001b[38;5;28;01mreturn\u001b[39;00m qcd\u001b[38;5;241m.\u001b[39mdraw(filename)\n",
      "File \u001b[0;32m/opt/anaconda3/lib/python3.12/site-packages/qiskit/utils/classtools.py:111\u001b[0m, in \u001b[0;36m_WrappedMethod.__get__.<locals>.out\u001b[0;34m(*args, **kwargs)\u001b[0m\n\u001b[1;32m    108\u001b[0m \u001b[38;5;129m@functools\u001b[39m\u001b[38;5;241m.\u001b[39mwraps(method)\n\u001b[1;32m    109\u001b[0m \u001b[38;5;28;01mdef\u001b[39;00m \u001b[38;5;21mout\u001b[39m(\u001b[38;5;241m*\u001b[39margs, \u001b[38;5;241m*\u001b[39m\u001b[38;5;241m*\u001b[39mkwargs):\n\u001b[1;32m    110\u001b[0m     \u001b[38;5;28;01mfor\u001b[39;00m callback \u001b[38;5;129;01min\u001b[39;00m \u001b[38;5;28mself\u001b[39m\u001b[38;5;241m.\u001b[39m_before:\n\u001b[0;32m--> 111\u001b[0m         callback\u001b[38;5;241m.\u001b[39m\u001b[38;5;21m__get__\u001b[39m(obj, objtype)(\u001b[38;5;241m*\u001b[39margs, \u001b[38;5;241m*\u001b[39m\u001b[38;5;241m*\u001b[39mkwargs)\n\u001b[1;32m    112\u001b[0m     retval \u001b[38;5;241m=\u001b[39m method(\u001b[38;5;241m*\u001b[39margs, \u001b[38;5;241m*\u001b[39m\u001b[38;5;241m*\u001b[39mkwargs)\n\u001b[1;32m    113\u001b[0m     \u001b[38;5;28;01mfor\u001b[39;00m callback \u001b[38;5;129;01min\u001b[39;00m \u001b[38;5;28mself\u001b[39m\u001b[38;5;241m.\u001b[39m_after:\n",
      "File \u001b[0;32m/opt/anaconda3/lib/python3.12/site-packages/qiskit/utils/lazy_tester.py:39\u001b[0m, in \u001b[0;36m_RequireNow.__call__\u001b[0;34m(self, *_args, **_kwargs)\u001b[0m\n\u001b[1;32m     38\u001b[0m \u001b[38;5;28;01mdef\u001b[39;00m \u001b[38;5;21m__call__\u001b[39m(\u001b[38;5;28mself\u001b[39m, \u001b[38;5;241m*\u001b[39m_args, \u001b[38;5;241m*\u001b[39m\u001b[38;5;241m*\u001b[39m_kwargs):\n\u001b[0;32m---> 39\u001b[0m     \u001b[38;5;28mself\u001b[39m\u001b[38;5;241m.\u001b[39m_tester\u001b[38;5;241m.\u001b[39mrequire_now(\u001b[38;5;28mself\u001b[39m\u001b[38;5;241m.\u001b[39m_feature)\n",
      "File \u001b[0;32m/opt/anaconda3/lib/python3.12/site-packages/qiskit/utils/lazy_tester.py:223\u001b[0m, in \u001b[0;36mLazyDependencyManager.require_now\u001b[0;34m(self, feature)\u001b[0m\n\u001b[1;32m    221\u001b[0m \u001b[38;5;28;01mif\u001b[39;00m \u001b[38;5;28mself\u001b[39m:\n\u001b[1;32m    222\u001b[0m     \u001b[38;5;28;01mreturn\u001b[39;00m\n\u001b[0;32m--> 223\u001b[0m \u001b[38;5;28;01mraise\u001b[39;00m MissingOptionalLibraryError(\n\u001b[1;32m    224\u001b[0m     libname\u001b[38;5;241m=\u001b[39m\u001b[38;5;28mself\u001b[39m\u001b[38;5;241m.\u001b[39m_name, name\u001b[38;5;241m=\u001b[39mfeature, pip_install\u001b[38;5;241m=\u001b[39m\u001b[38;5;28mself\u001b[39m\u001b[38;5;241m.\u001b[39m_install, msg\u001b[38;5;241m=\u001b[39m\u001b[38;5;28mself\u001b[39m\u001b[38;5;241m.\u001b[39m_msg\n\u001b[1;32m    225\u001b[0m )\n",
      "\u001b[0;31mMissingOptionalLibraryError\u001b[0m: \"The 'pylatexenc' library is required to use 'MatplotlibDrawer'. You can install it with 'pip install pylatexenc'.\""
     ]
    }
   ],
   "source": [
    "import tensorcircuit as tc\n",
    "from tensorcircuit.cloud import apis\n",
    "apis.set_provider(\"local\")\n",
    "\n",
    "# 调用本地code进行电路模拟\n",
    "c = tc.Circuit(1)\n",
    "c.H(0)\n",
    "c.rz(0, theta=0)\n",
    "U = c.matrix() # 量子门电路对应的矩阵\n",
    "states = c.state() # 输出量子态\n",
    "t = apis.submit_task(circuit=c, device=\"testing\", shots=2048)\n",
    "data = t.results(blocked=True) #产生0，1态的结果分布\n",
    "print('data:', data)\n",
    "detail = t.details() # 产生详细的参数信息\n",
    "print(\"detail info:\", t.details())\n",
    "\n",
    "print(c.draw(output = 'mpl')) #电路可视化图像输出,可选 c.draw(output='mpl')\n",
    "counts = t.results()\n",
    "tc.results.counts.plot_histogram(counts) #柱状结果分布"
   ]
  }
 ],
 "metadata": {
  "kernelspec": {
   "display_name": "base",
   "language": "python",
   "name": "python3"
  },
  "language_info": {
   "codemirror_mode": {
    "name": "ipython",
    "version": 3
   },
   "file_extension": ".py",
   "mimetype": "text/x-python",
   "name": "python",
   "nbconvert_exporter": "python",
   "pygments_lexer": "ipython3",
   "version": "3.12.4"
  }
 },
 "nbformat": 4,
 "nbformat_minor": 2
}
