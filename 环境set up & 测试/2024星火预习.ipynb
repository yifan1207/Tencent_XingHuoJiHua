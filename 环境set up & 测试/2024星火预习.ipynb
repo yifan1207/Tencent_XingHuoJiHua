{
 "cells": [
  {
   "cell_type": "markdown",
   "metadata": {},
   "source": [
    "# 星火预习题目"
   ]
  },
  {
   "cell_type": "markdown",
   "metadata": {},
   "source": [
    "⛔️ 内部资料，严禁转发"
   ]
  },
  {
   "cell_type": "markdown",
   "metadata": {},
   "source": [
    "可通过[Tensorcircuit官方文档](https://tensorcircuit.readthedocs.io)等来源查询并学习包括符号意义、API使用方法等信息。\n",
    "\n",
    "1-4 的题目最好在正式参与星火活动前完成，有余力这也可以尝试选做题。"
   ]
  },
  {
   "cell_type": "markdown",
   "metadata": {},
   "source": [
    "## 1 环境配置"
   ]
  },
  {
   "cell_type": "markdown",
   "metadata": {},
   "source": [
    "创建并激活一个 Python 3.8以上的环境, 通过以下方式安装 TensorCircuit:\n",
    "\n",
    "pip install \"tensorcircuit[cloud]\"\n",
    "\n",
    "并测试如下代码："
   ]
  },
  {
   "cell_type": "code",
   "execution_count": 3,
   "metadata": {},
   "outputs": [
    {
     "name": "stdout",
     "output_type": "stream",
     "text": [
      "Requirement already satisfied: tensorcircuit[cloud] in /opt/anaconda3/lib/python3.12/site-packages (0.12.0)\n",
      "Requirement already satisfied: numpy in /opt/anaconda3/lib/python3.12/site-packages (from tensorcircuit[cloud]) (1.26.4)\n",
      "Requirement already satisfied: scipy in /opt/anaconda3/lib/python3.12/site-packages (from tensorcircuit[cloud]) (1.13.1)\n",
      "Requirement already satisfied: tensornetwork-ng in /opt/anaconda3/lib/python3.12/site-packages (from tensorcircuit[cloud]) (0.5.0)\n",
      "Requirement already satisfied: networkx in /opt/anaconda3/lib/python3.12/site-packages (from tensorcircuit[cloud]) (3.2.1)\n",
      "Requirement already satisfied: qiskit<1.0 in /opt/anaconda3/lib/python3.12/site-packages (from tensorcircuit[cloud]) (0.46.2)\n",
      "Requirement already satisfied: mthree in /opt/anaconda3/lib/python3.12/site-packages (from tensorcircuit[cloud]) (2.6.3)\n",
      "Requirement already satisfied: qiskit-terra==0.46.2 in /opt/anaconda3/lib/python3.12/site-packages (from qiskit<1.0->tensorcircuit[cloud]) (0.46.2)\n",
      "Requirement already satisfied: rustworkx>=0.13.0 in /opt/anaconda3/lib/python3.12/site-packages (from qiskit-terra==0.46.2->qiskit<1.0->tensorcircuit[cloud]) (0.15.1)\n",
      "Requirement already satisfied: ply>=3.10 in /opt/anaconda3/lib/python3.12/site-packages (from qiskit-terra==0.46.2->qiskit<1.0->tensorcircuit[cloud]) (3.11)\n",
      "Requirement already satisfied: psutil>=5 in /opt/anaconda3/lib/python3.12/site-packages (from qiskit-terra==0.46.2->qiskit<1.0->tensorcircuit[cloud]) (5.9.0)\n",
      "Requirement already satisfied: sympy>=1.3 in /opt/anaconda3/lib/python3.12/site-packages (from qiskit-terra==0.46.2->qiskit<1.0->tensorcircuit[cloud]) (1.12)\n",
      "Requirement already satisfied: dill>=0.3 in /opt/anaconda3/lib/python3.12/site-packages (from qiskit-terra==0.46.2->qiskit<1.0->tensorcircuit[cloud]) (0.3.8)\n",
      "Requirement already satisfied: python-dateutil>=2.8.0 in /opt/anaconda3/lib/python3.12/site-packages (from qiskit-terra==0.46.2->qiskit<1.0->tensorcircuit[cloud]) (2.9.0.post0)\n",
      "Requirement already satisfied: stevedore>=3.0.0 in /opt/anaconda3/lib/python3.12/site-packages (from qiskit-terra==0.46.2->qiskit<1.0->tensorcircuit[cloud]) (5.2.0)\n",
      "Requirement already satisfied: symengine>=0.11 in /opt/anaconda3/lib/python3.12/site-packages (from qiskit-terra==0.46.2->qiskit<1.0->tensorcircuit[cloud]) (0.11.0)\n",
      "Requirement already satisfied: cython>=3.0.5 in /opt/anaconda3/lib/python3.12/site-packages (from mthree->tensorcircuit[cloud]) (3.0.10)\n",
      "Requirement already satisfied: qiskit-ibm-runtime>=0.18 in /opt/anaconda3/lib/python3.12/site-packages (from mthree->tensorcircuit[cloud]) (0.20.0)\n",
      "Requirement already satisfied: orjson>=3.0.0 in /opt/anaconda3/lib/python3.12/site-packages (from mthree->tensorcircuit[cloud]) (3.10.6)\n",
      "Requirement already satisfied: graphviz>=0.11.1 in /opt/anaconda3/lib/python3.12/site-packages (from tensornetwork-ng->tensorcircuit[cloud]) (0.20.3)\n",
      "Requirement already satisfied: opt-einsum>=2.3.0 in /opt/anaconda3/lib/python3.12/site-packages (from tensornetwork-ng->tensorcircuit[cloud]) (3.3.0)\n",
      "Requirement already satisfied: h5py>=2.9.0 in /opt/anaconda3/lib/python3.12/site-packages (from tensornetwork-ng->tensorcircuit[cloud]) (3.11.0)\n",
      "Requirement already satisfied: requests>=2.19 in /opt/anaconda3/lib/python3.12/site-packages (from qiskit-ibm-runtime>=0.18->mthree->tensorcircuit[cloud]) (2.32.2)\n",
      "Requirement already satisfied: requests-ntlm>=1.1.0 in /opt/anaconda3/lib/python3.12/site-packages (from qiskit-ibm-runtime>=0.18->mthree->tensorcircuit[cloud]) (1.3.0)\n",
      "Requirement already satisfied: urllib3>=1.21.1 in /opt/anaconda3/lib/python3.12/site-packages (from qiskit-ibm-runtime>=0.18->mthree->tensorcircuit[cloud]) (2.2.2)\n",
      "Requirement already satisfied: websocket-client>=1.5.1 in /opt/anaconda3/lib/python3.12/site-packages (from qiskit-ibm-runtime>=0.18->mthree->tensorcircuit[cloud]) (1.8.0)\n",
      "Requirement already satisfied: ibm-platform-services>=0.22.6 in /opt/anaconda3/lib/python3.12/site-packages (from qiskit-ibm-runtime>=0.18->mthree->tensorcircuit[cloud]) (0.54.2)\n",
      "Requirement already satisfied: ibm-cloud-sdk-core<4.0.0,>=3.19.2 in /opt/anaconda3/lib/python3.12/site-packages (from ibm-platform-services>=0.22.6->qiskit-ibm-runtime>=0.18->mthree->tensorcircuit[cloud]) (3.20.1)\n",
      "Requirement already satisfied: six>=1.5 in /opt/anaconda3/lib/python3.12/site-packages (from python-dateutil>=2.8.0->qiskit-terra==0.46.2->qiskit<1.0->tensorcircuit[cloud]) (1.16.0)\n",
      "Requirement already satisfied: charset-normalizer<4,>=2 in /opt/anaconda3/lib/python3.12/site-packages (from requests>=2.19->qiskit-ibm-runtime>=0.18->mthree->tensorcircuit[cloud]) (2.0.4)\n",
      "Requirement already satisfied: idna<4,>=2.5 in /opt/anaconda3/lib/python3.12/site-packages (from requests>=2.19->qiskit-ibm-runtime>=0.18->mthree->tensorcircuit[cloud]) (3.7)\n",
      "Requirement already satisfied: certifi>=2017.4.17 in /opt/anaconda3/lib/python3.12/site-packages (from requests>=2.19->qiskit-ibm-runtime>=0.18->mthree->tensorcircuit[cloud]) (2024.6.2)\n",
      "Requirement already satisfied: cryptography>=1.3 in /opt/anaconda3/lib/python3.12/site-packages (from requests-ntlm>=1.1.0->qiskit-ibm-runtime>=0.18->mthree->tensorcircuit[cloud]) (42.0.5)\n",
      "Requirement already satisfied: pyspnego>=0.4.0 in /opt/anaconda3/lib/python3.12/site-packages (from requests-ntlm>=1.1.0->qiskit-ibm-runtime>=0.18->mthree->tensorcircuit[cloud]) (0.11.0)\n",
      "Requirement already satisfied: pbr!=2.1.0,>=2.0.0 in /opt/anaconda3/lib/python3.12/site-packages (from stevedore>=3.0.0->qiskit-terra==0.46.2->qiskit<1.0->tensorcircuit[cloud]) (6.0.0)\n",
      "Requirement already satisfied: mpmath>=0.19 in /opt/anaconda3/lib/python3.12/site-packages (from sympy>=1.3->qiskit-terra==0.46.2->qiskit<1.0->tensorcircuit[cloud]) (1.3.0)\n",
      "Requirement already satisfied: cffi>=1.12 in /opt/anaconda3/lib/python3.12/site-packages (from cryptography>=1.3->requests-ntlm>=1.1.0->qiskit-ibm-runtime>=0.18->mthree->tensorcircuit[cloud]) (1.16.0)\n",
      "Requirement already satisfied: PyJWT<3.0.0,>=2.8.0 in /opt/anaconda3/lib/python3.12/site-packages (from ibm-cloud-sdk-core<4.0.0,>=3.19.2->ibm-platform-services>=0.22.6->qiskit-ibm-runtime>=0.18->mthree->tensorcircuit[cloud]) (2.8.0)\n",
      "Requirement already satisfied: pycparser in /opt/anaconda3/lib/python3.12/site-packages (from cffi>=1.12->cryptography>=1.3->requests-ntlm>=1.1.0->qiskit-ibm-runtime>=0.18->mthree->tensorcircuit[cloud]) (2.21)\n",
      "Note: you may need to restart the kernel to use updated packages.\n"
     ]
    }
   ],
   "source": [
    "pip install \"tensorcircuit[cloud]\""
   ]
  },
  {
   "cell_type": "code",
   "execution_count": 11,
   "metadata": {},
   "outputs": [
    {
     "name": "stdout",
     "output_type": "stream",
     "text": [
      "Collecting pylatexenc\n",
      "  Downloading pylatexenc-2.10.tar.gz (162 kB)\n",
      "\u001b[2K     \u001b[90m━━━━━━━━━━━━━━━━━━━━━━━━━━━━━━━━━━━━━\u001b[0m \u001b[32m162.6/162.6 kB\u001b[0m \u001b[31m320.0 kB/s\u001b[0m eta \u001b[36m0:00:00\u001b[0ma \u001b[36m0:00:01\u001b[0m\n",
      "\u001b[?25h  Preparing metadata (setup.py) ... \u001b[?25ldone\n",
      "\u001b[?25hBuilding wheels for collected packages: pylatexenc\n",
      "  Building wheel for pylatexenc (setup.py) ... \u001b[?25ldone\n",
      "\u001b[?25h  Created wheel for pylatexenc: filename=pylatexenc-2.10-py3-none-any.whl size=136816 sha256=e1ef48a8ad6da3d39c29534a46ed6d3d5d8a0d9d18af383fb58b712fc47c4503\n",
      "  Stored in directory: /Users/Yifan/Library/Caches/pip/wheels/06/3e/78/fa1588c1ae991bbfd814af2bcac6cef7a178beee1939180d46\n",
      "Successfully built pylatexenc\n",
      "Installing collected packages: pylatexenc\n",
      "Successfully installed pylatexenc-2.10\n",
      "Note: you may need to restart the kernel to use updated packages.\n"
     ]
    }
   ],
   "source": [
    "pip install pylatexenc"
   ]
  },
  {
   "cell_type": "code",
   "execution_count": 4,
   "metadata": {},
   "outputs": [
    {
     "name": "stdout",
     "output_type": "stream",
     "text": [
      "data: {'1': 1014, '0': 1010}\n",
      "detail info: {'id': '9c0870fe-b5d7-4434-b515-5a7ccf83acb9', 'state': 'completed', 'at': 1720512480416365.2, 'shots': 2024, 'device': 'testing', 'results': {'0': 1010, '1': 1014}}\n",
      "   ┌───┐┌───────┐\n",
      "q: ┤ H ├┤ Rz(0) ├\n",
      "   └───┘└───────┘\n"
     ]
    },
    {
     "data": {
      "image/png": "[encoded data removed]",
      "text/plain": [
       "<Figure size 700x500 with 1 Axes>"
      ]
     },
     "execution_count": 4,
     "metadata": {},
     "output_type": "execute_result"
    }
   ],
   "source": [
    "import tensorcircuit as tc\n",
    "from tensorcircuit.cloud import apis\n",
    "apis.set_provider(\"local\")\n",
    "\n",
    "# 调用本地code进行电路模拟\n",
    "c = tc.Circuit(1)\n",
    "c.H(0)\n",
    "c.rz(0, theta=0)\n",
    "U = c.matrix() # 量子门电路对应的矩阵\n",
    "states = c.state() # 输出量子态\n",
    "t = apis.submit_task(circuit=c, device=\"testing\", shots=2024)\n",
    "data = t.results(blocked=True) #产生0，1态的结果分布\n",
    "print('data:', data)\n",
    "detail = t.details() # 产生详细的参数信息\n",
    "print(\"detail info:\", t.details())\n",
    "\n",
    "print(c.draw()) #电路可视化图像输出,可选 c.draw(output='mpl')\n",
    "counts = t.results()\n",
    "tc.results.counts.plot_histogram(counts) #柱状结果分布"
   ]
  },
  {
   "cell_type": "markdown",
   "metadata": {},
   "source": [
    "## 2 向量和矩阵"
   ]
  },
  {
   "cell_type": "markdown",
   "metadata": {},
   "source": [
    "考虑初始向量 $ v=(1, 0) $ ，给定二维矩阵 $$R(\\theta) = \\begin{pmatrix} \\cos\\theta &\\sin\\theta \\\\ -\\sin\\theta & \\cos\\theta \\end{pmatrix}$$，\n",
    "利用 Numpy 程序实现矩阵乘向量的计算 $v'=R(\\theta)v$。通过可视化找到这一向量变化的几何意义。"
   ]
  },
  {
   "cell_type": "markdown",
   "metadata": {},
   "source": [
    "### 2-2 矩阵指数"
   ]
  },
  {
   "cell_type": "markdown",
   "metadata": {},
   "source": [
    "理解矩阵指数的含义，程序实现 $e^{i \\hat P}$, $\\hat{P}=\\sigma_x, \\sigma_y, \\sigma_y$. $\\sigma_x, \\sigma_y, \\sigma_y$ 是 $2*2$ 泡利矩阵。\n",
    "\n",
    "考虑泰勒级数展开，试证明 $e^{i\\theta\\hat{P}} = \\cos(\\theta) I + \\mathrm{i}\\sin(\\theta) \\hat{P}$，并程序验证该公式的正确性。\n",
    "\n",
    "根据解析证明，讨论以上矩阵欧拉公式成立对矩阵 $\\hat{P}$ 形式的限制。"
   ]
  },
  {
   "cell_type": "markdown",
   "metadata": {},
   "source": [
    "### 2-3 矩阵关于向量的期望"
   ]
  },
  {
   "cell_type": "markdown",
   "metadata": {},
   "source": [
    "定义矩阵 $\\hat{Q}$ 关于列向量 $v$ 的期望为以下标量：$$v^\\dagger \\hat{Q} v$$。\n",
    "考虑 $v(\\theta)=e^{i\\theta/2\\hat{P}}v_0$, $v_0=(1, 0)$, 且 $\\hat{P}, \\hat{Q}$ 均是泡利矩阵，实现程序计算该期望。\n",
    "\n",
    "函数前两个输入为 0,1,2 之一的整数，分别确定 P 和 Q 是哪一个泡利矩阵，第三个输入为参数浮点数 $\\theta$, 函数的输出为$\\hat{Q}$在$\\hat{v}$上的期望值。\n",
    "\n",
    "可视化出不同泡利矩阵组合下期望随参数$\\theta$变化的曲线，讨论其规律。"
   ]
  },
  {
   "cell_type": "markdown",
   "metadata": {},
   "source": [
    "### 2-4 张量积"
   ]
  },
  {
   "cell_type": "markdown",
   "metadata": {},
   "source": [
    "理解矩阵张量积的含义，$X\\otimes I\\otimes I\\otimes Z$ 可简记为 $X_0Z_3$。\n",
    "程序生成如下矩阵（输入 n）：\n",
    "\n",
    "$$H = \\sum_{i=0}^{n-1} Z_i\\otimes I_{n-i-1} + \\sum_{i=0}^{n-2} X_i\\otimes I_{n-i-1}X_{i+1}\\otimes I_{n-i} ,$$\n",
    "\n",
    "并求该矩阵 $H$ 在向量 $(1,0,0,....)$ 下的期望值。"
   ]
  },
  {
   "cell_type": "markdown",
   "metadata": {},
   "source": [
    "### 2-5 狄拉克符号"
   ]
  },
  {
   "cell_type": "markdown",
   "metadata": {},
   "source": [
    "记列向量 $\\vert 0\\rangle = \\begin{pmatrix}1\\\\0 \\end{pmatrix}$, $\\vert 1\\rangle = \\begin{pmatrix}0\\\\1 \\end{pmatrix}$, $\\vert 00\\rangle = \\begin{pmatrix}1\\\\0\\\\0\\\\0 \\end{pmatrix}$，尝试用 Dirac 符号的语言，重写上述小节涉及的矩阵关系和定义式。并写出 $\\frac{1}{\\sqrt{2}}(\\vert 010\\rangle -\\vert 101\\rangle)$ 代表的列向量。"
   ]
  },
  {
   "cell_type": "markdown",
   "metadata": {},
   "source": [
    "## 3 测量"
   ]
  },
  {
   "cell_type": "markdown",
   "metadata": {},
   "source": [
    "### 3-1 线路期望计算"
   ]
  },
  {
   "cell_type": "markdown",
   "metadata": {},
   "source": [
    "Q: 给定以下线路，试利用 TensorCircuit API 计算其期望 $\\langle Z_0Z_1 \\rangle$。"
   ]
  },
  {
   "cell_type": "code",
   "execution_count": 28,
   "metadata": {},
   "outputs": [
    {
     "name": "stderr",
     "output_type": "stream",
     "text": [
      "/opt/anaconda3/lib/python3.12/site-packages/qiskit/visualization/circuit/matplotlib.py:266: FutureWarning: The default matplotlib drawer scheme will be changed to \"iqp\" in a following release. To silence this warning, specify the current default explicitly as style=\"clifford\", or the new default as style=\"iqp\".\n",
      "  self._style, def_font_ratio = load_style(self._style)\n"
     ]
    },
    {
     "data": {
      "image/png": "[encoded data removed]",
      "text/plain": [
       "<Figure size 287.294x200.667 with 1 Axes>"
      ]
     },
     "execution_count": 28,
     "metadata": {},
     "output_type": "execute_result"
    }
   ],
   "source": [
    "c = tc.Circuit(2)\n",
    "c.h(0)\n",
    "c.cx(0, 1)\n",
    "c.draw(output=\"mpl\")"
   ]
  },
  {
   "cell_type": "markdown",
   "metadata": {},
   "source": [
    "A: 利用c.state()求得量子态或对应的密度矩阵$\\rho$，利用$\\langle Z_0Z_1 \\rangle=Tr(\\rho Z_0Z_1)$计算可得。"
   ]
  },
  {
   "cell_type": "markdown",
   "metadata": {},
   "source": [
    "### 3-2 基于测量结果近似期望"
   ]
  },
  {
   "cell_type": "markdown",
   "metadata": {},
   "source": [
    "Q: 利用 TensorCircuit API 对以上线路进行若干次测量，得到一些 0 1 的比特串的结果，并尝试利用这些测量的 bitstring 来估计期望 $\\langle Z_0Z_1 \\rangle$。"
   ]
  },
  {
   "cell_type": "markdown",
   "metadata": {},
   "source": [
    "A: ZZ对角元上相应的基矢为，00，01，10，11，矩阵元或本征值为1，-1，-1，1，将bitstring中相应的基矢转换为prob，与本征值进行加权平均即可。"
   ]
  },
  {
   "cell_type": "code",
   "execution_count": null,
   "metadata": {},
   "outputs": [],
   "source": []
  },
  {
   "cell_type": "code",
   "execution_count": null,
   "metadata": {},
   "outputs": [],
   "source": []
  },
  {
   "cell_type": "code",
   "execution_count": null,
   "metadata": {},
   "outputs": [],
   "source": []
  }
 ],
 "metadata": {
  "kernelspec": {
   "display_name": "Python 3 (ipykernel)",
   "language": "python",
   "name": "python3"
  },
  "language_info": {
   "codemirror_mode": {
    "name": "ipython",
    "version": 3
   },
   "file_extension": ".py",
   "mimetype": "text/x-python",
   "name": "python",
   "nbconvert_exporter": "python",
   "pygments_lexer": "ipython3",
   "version": "3.12.4"
  }
 },
 "nbformat": 4,
 "nbformat_minor": 4
}
